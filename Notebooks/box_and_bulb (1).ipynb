{
 "cells": [
  {
   "cell_type": "code",
   "execution_count": 4,
   "id": "148db8aa-f0c6-4b81-a43e-a15932054fd8",
   "metadata": {},
   "outputs": [],
   "source": [
    "import csv\n",
    "import os\n",
    "import cv2\n",
    "import random"
   ]
  },
  {
   "cell_type": "code",
   "execution_count": 5,
   "id": "c56174e5-95c8-4fc6-9e87-4a8271c07c25",
   "metadata": {
    "scrolled": true
   },
   "outputs": [
    {
     "name": "stdout",
     "output_type": "stream",
     "text": [
      "img_dirs : ['NEW_IMAGES\\\\dayTrain\\\\dayTrain\\\\dayClip1\\\\frames', 'NEW_IMAGES\\\\dayTrain\\\\dayTrain\\\\dayClip10\\\\frames', 'NEW_IMAGES\\\\dayTrain\\\\dayTrain\\\\dayClip11\\\\frames', 'NEW_IMAGES\\\\dayTrain\\\\dayTrain\\\\dayClip12\\\\frames', 'NEW_IMAGES\\\\dayTrain\\\\dayTrain\\\\dayClip13\\\\frames', 'NEW_IMAGES\\\\dayTrain\\\\dayTrain\\\\dayClip2\\\\frames', 'NEW_IMAGES\\\\dayTrain\\\\dayTrain\\\\dayClip3\\\\frames', 'NEW_IMAGES\\\\dayTrain\\\\dayTrain\\\\dayClip4\\\\frames', 'NEW_IMAGES\\\\dayTrain\\\\dayTrain\\\\dayClip5\\\\frames', 'NEW_IMAGES\\\\dayTrain\\\\dayTrain\\\\dayClip6\\\\frames', 'NEW_IMAGES\\\\dayTrain\\\\dayTrain\\\\dayClip7\\\\frames', 'NEW_IMAGES\\\\dayTrain\\\\dayTrain\\\\dayClip8\\\\frames', 'NEW_IMAGES\\\\dayTrain\\\\dayTrain\\\\dayClip9\\\\frames', 'NEW_IMAGES\\\\nightTrain\\\\nightTrain\\\\nightClip1\\\\frames', 'NEW_IMAGES\\\\nightTrain\\\\nightTrain\\\\nightClip2\\\\frames', 'NEW_IMAGES\\\\nightTrain\\\\nightTrain\\\\nightClip3\\\\frames', 'NEW_IMAGES\\\\nightTrain\\\\nightTrain\\\\nightClip4\\\\frames', 'NEW_IMAGES\\\\nightTrain\\\\nightTrain\\\\nightClip5\\\\frames']\n",
      "\n",
      "anno_path_bulb_dir : ['NEW_IMAGES/Annotations/Annotations\\\\dayTrain\\\\dayClip1\\\\frameAnnotationsBULB.csv', 'NEW_IMAGES/Annotations/Annotations\\\\dayTrain\\\\dayClip10\\\\frameAnnotationsBULB.csv', 'NEW_IMAGES/Annotations/Annotations\\\\dayTrain\\\\dayClip11\\\\frameAnnotationsBULB.csv', 'NEW_IMAGES/Annotations/Annotations\\\\dayTrain\\\\dayClip12\\\\frameAnnotationsBULB.csv', 'NEW_IMAGES/Annotations/Annotations\\\\dayTrain\\\\dayClip13\\\\frameAnnotationsBULB.csv', 'NEW_IMAGES/Annotations/Annotations\\\\dayTrain\\\\dayClip2\\\\frameAnnotationsBULB.csv', 'NEW_IMAGES/Annotations/Annotations\\\\dayTrain\\\\dayClip3\\\\frameAnnotationsBULB.csv', 'NEW_IMAGES/Annotations/Annotations\\\\dayTrain\\\\dayClip4\\\\frameAnnotationsBULB.csv', 'NEW_IMAGES/Annotations/Annotations\\\\dayTrain\\\\dayClip5\\\\frameAnnotationsBULB.csv', 'NEW_IMAGES/Annotations/Annotations\\\\dayTrain\\\\dayClip6\\\\frameAnnotationsBULB.csv', 'NEW_IMAGES/Annotations/Annotations\\\\dayTrain\\\\dayClip7\\\\frameAnnotationsBULB.csv', 'NEW_IMAGES/Annotations/Annotations\\\\dayTrain\\\\dayClip8\\\\frameAnnotationsBULB.csv', 'NEW_IMAGES/Annotations/Annotations\\\\dayTrain\\\\dayClip9\\\\frameAnnotationsBULB.csv', 'NEW_IMAGES/Annotations/Annotations\\\\nightTrain\\\\nightClip1\\\\frameAnnotationsBULB.csv', 'NEW_IMAGES/Annotations/Annotations\\\\nightTrain\\\\nightClip2\\\\frameAnnotationsBULB.csv', 'NEW_IMAGES/Annotations/Annotations\\\\nightTrain\\\\nightClip3\\\\frameAnnotationsBULB.csv', 'NEW_IMAGES/Annotations/Annotations\\\\nightTrain\\\\nightClip4\\\\frameAnnotationsBULB.csv', 'NEW_IMAGES/Annotations/Annotations\\\\nightTrain\\\\nightClip5\\\\frameAnnotationsBULB.csv']\n",
      "\n",
      "anno_path_box : ['NEW_IMAGES/Annotations/Annotations\\\\dayTrain\\\\dayClip1\\\\frameAnnotationsBOX.csv', 'NEW_IMAGES/Annotations/Annotations\\\\dayTrain\\\\dayClip10\\\\frameAnnotationsBOX.csv', 'NEW_IMAGES/Annotations/Annotations\\\\dayTrain\\\\dayClip11\\\\frameAnnotationsBOX.csv', 'NEW_IMAGES/Annotations/Annotations\\\\dayTrain\\\\dayClip12\\\\frameAnnotationsBOX.csv', 'NEW_IMAGES/Annotations/Annotations\\\\dayTrain\\\\dayClip13\\\\frameAnnotationsBOX.csv', 'NEW_IMAGES/Annotations/Annotations\\\\dayTrain\\\\dayClip2\\\\frameAnnotationsBOX.csv', 'NEW_IMAGES/Annotations/Annotations\\\\dayTrain\\\\dayClip3\\\\frameAnnotationsBOX.csv', 'NEW_IMAGES/Annotations/Annotations\\\\dayTrain\\\\dayClip4\\\\frameAnnotationsBOX.csv', 'NEW_IMAGES/Annotations/Annotations\\\\dayTrain\\\\dayClip5\\\\frameAnnotationsBOX.csv', 'NEW_IMAGES/Annotations/Annotations\\\\dayTrain\\\\dayClip6\\\\frameAnnotationsBOX.csv', 'NEW_IMAGES/Annotations/Annotations\\\\dayTrain\\\\dayClip7\\\\frameAnnotationsBOX.csv', 'NEW_IMAGES/Annotations/Annotations\\\\dayTrain\\\\dayClip8\\\\frameAnnotationsBOX.csv', 'NEW_IMAGES/Annotations/Annotations\\\\dayTrain\\\\dayClip9\\\\frameAnnotationsBOX.csv', 'NEW_IMAGES/Annotations/Annotations\\\\nightTrain\\\\nightClip1\\\\frameAnnotationsBOX.csv', 'NEW_IMAGES/Annotations/Annotations\\\\nightTrain\\\\nightClip2\\\\frameAnnotationsBOX.csv', 'NEW_IMAGES/Annotations/Annotations\\\\nightTrain\\\\nightClip3\\\\frameAnnotationsBOX.csv', 'NEW_IMAGES/Annotations/Annotations\\\\nightTrain\\\\nightClip4\\\\frameAnnotationsBOX.csv', 'NEW_IMAGES/Annotations/Annotations\\\\nightTrain\\\\nightClip5\\\\frameAnnotationsBOX.csv']\n"
     ]
    }
   ],
   "source": [
    "anno_paths_bulb = []\n",
    "anno_paths_box = []\n",
    "img_dirs = []\n",
    "anno_base_path = r'NEW_IMAGES/Annotations/Annotations'\n",
    "img_base_path = r'NEW_IMAGES'\n",
    "\n",
    "for train_type in ['dayTrain', 'nightTrain']: \n",
    "    anno_train_path = os.path.join(anno_base_path, train_type)\n",
    "    img_train_path = os.path.join(img_base_path, train_type, train_type)\n",
    "\n",
    "    for clip in os.listdir(anno_train_path):\n",
    "        clip_path = os.path.join(anno_train_path, clip)\n",
    "        \n",
    "        if os.path.isdir(clip_path):\n",
    "            anno_file = os.path.join(clip_path, 'frameAnnotationsBOX.csv')\n",
    "            if os.path.isfile(anno_file):\n",
    "                anno_paths_box.append(anno_file)\n",
    "\n",
    "        if os.path.isdir(clip_path):\n",
    "            anno_file = os.path.join(clip_path, 'frameAnnotationsBULB.csv')\n",
    "            if os.path.isfile(anno_file):\n",
    "                anno_paths_bulb.append(anno_file)\n",
    "\n",
    "    for clip in os.listdir(img_train_path):\n",
    "        clip_path = os.path.join(img_train_path, clip)\n",
    "        \n",
    "        if os.path.isdir(clip_path):\n",
    "            img_dir = os.path.join(clip_path, 'frames')\n",
    "            if os.path.isdir(img_dir):\n",
    "                img_dirs.append(img_dir)\n",
    "\n",
    "print('img_dirs :',img_dirs)\n",
    "print()\n",
    "print('anno_path_bulb_dir :',anno_paths_bulb)\n",
    "print()\n",
    "print('anno_path_box :',anno_paths_box)"
   ]
  },
  {
   "cell_type": "code",
   "execution_count": 6,
   "id": "905f75df-ffa3-49dd-bd98-e185692c7f08",
   "metadata": {
    "scrolled": true
   },
   "outputs": [
    {
     "name": "stdout",
     "output_type": "stream",
     "text": [
      "Box Annotation Paths: ['NEW_IMAGES/Annotations/Annotations\\\\dayTrain\\\\dayClip1\\\\frameAnnotationsBOX.csv', 'NEW_IMAGES/Annotations/Annotations\\\\dayTrain\\\\dayClip10\\\\frameAnnotationsBOX.csv', 'NEW_IMAGES/Annotations/Annotations\\\\dayTrain\\\\dayClip11\\\\frameAnnotationsBOX.csv', 'NEW_IMAGES/Annotations/Annotations\\\\dayTrain\\\\dayClip12\\\\frameAnnotationsBOX.csv', 'NEW_IMAGES/Annotations/Annotations\\\\dayTrain\\\\dayClip13\\\\frameAnnotationsBOX.csv', 'NEW_IMAGES/Annotations/Annotations\\\\dayTrain\\\\dayClip2\\\\frameAnnotationsBOX.csv', 'NEW_IMAGES/Annotations/Annotations\\\\dayTrain\\\\dayClip3\\\\frameAnnotationsBOX.csv', 'NEW_IMAGES/Annotations/Annotations\\\\dayTrain\\\\dayClip4\\\\frameAnnotationsBOX.csv', 'NEW_IMAGES/Annotations/Annotations\\\\dayTrain\\\\dayClip5\\\\frameAnnotationsBOX.csv', 'NEW_IMAGES/Annotations/Annotations\\\\dayTrain\\\\dayClip6\\\\frameAnnotationsBOX.csv', 'NEW_IMAGES/Annotations/Annotations\\\\dayTrain\\\\dayClip7\\\\frameAnnotationsBOX.csv', 'NEW_IMAGES/Annotations/Annotations\\\\dayTrain\\\\dayClip8\\\\frameAnnotationsBOX.csv', 'NEW_IMAGES/Annotations/Annotations\\\\dayTrain\\\\dayClip9\\\\frameAnnotationsBOX.csv', 'NEW_IMAGES/Annotations/Annotations\\\\nightTrain\\\\nightClip1\\\\frameAnnotationsBOX.csv', 'NEW_IMAGES/Annotations/Annotations\\\\nightTrain\\\\nightClip2\\\\frameAnnotationsBOX.csv', 'NEW_IMAGES/Annotations/Annotations\\\\nightTrain\\\\nightClip3\\\\frameAnnotationsBOX.csv', 'NEW_IMAGES/Annotations/Annotations\\\\nightTrain\\\\nightClip4\\\\frameAnnotationsBOX.csv', 'NEW_IMAGES/Annotations/Annotations\\\\nightTrain\\\\nightClip5\\\\frameAnnotationsBOX.csv']\n",
      "\n",
      "Bulb Annotation Paths: ['NEW_IMAGES/Annotations/Annotations\\\\dayTrain\\\\dayClip1\\\\frameAnnotationsBULB.csv', 'NEW_IMAGES/Annotations/Annotations\\\\dayTrain\\\\dayClip10\\\\frameAnnotationsBULB.csv', 'NEW_IMAGES/Annotations/Annotations\\\\dayTrain\\\\dayClip11\\\\frameAnnotationsBULB.csv', 'NEW_IMAGES/Annotations/Annotations\\\\dayTrain\\\\dayClip12\\\\frameAnnotationsBULB.csv', 'NEW_IMAGES/Annotations/Annotations\\\\dayTrain\\\\dayClip13\\\\frameAnnotationsBULB.csv', 'NEW_IMAGES/Annotations/Annotations\\\\dayTrain\\\\dayClip2\\\\frameAnnotationsBULB.csv', 'NEW_IMAGES/Annotations/Annotations\\\\dayTrain\\\\dayClip3\\\\frameAnnotationsBULB.csv', 'NEW_IMAGES/Annotations/Annotations\\\\dayTrain\\\\dayClip4\\\\frameAnnotationsBULB.csv', 'NEW_IMAGES/Annotations/Annotations\\\\dayTrain\\\\dayClip5\\\\frameAnnotationsBULB.csv', 'NEW_IMAGES/Annotations/Annotations\\\\dayTrain\\\\dayClip6\\\\frameAnnotationsBULB.csv', 'NEW_IMAGES/Annotations/Annotations\\\\dayTrain\\\\dayClip7\\\\frameAnnotationsBULB.csv', 'NEW_IMAGES/Annotations/Annotations\\\\dayTrain\\\\dayClip8\\\\frameAnnotationsBULB.csv', 'NEW_IMAGES/Annotations/Annotations\\\\dayTrain\\\\dayClip9\\\\frameAnnotationsBULB.csv', 'NEW_IMAGES/Annotations/Annotations\\\\nightTrain\\\\nightClip1\\\\frameAnnotationsBULB.csv', 'NEW_IMAGES/Annotations/Annotations\\\\nightTrain\\\\nightClip2\\\\frameAnnotationsBULB.csv', 'NEW_IMAGES/Annotations/Annotations\\\\nightTrain\\\\nightClip3\\\\frameAnnotationsBULB.csv', 'NEW_IMAGES/Annotations/Annotations\\\\nightTrain\\\\nightClip4\\\\frameAnnotationsBULB.csv', 'NEW_IMAGES/Annotations/Annotations\\\\nightTrain\\\\nightClip5\\\\frameAnnotationsBULB.csv']\n",
      "\n",
      "Image Directories: ['NEW_IMAGES\\\\dayTrain\\\\dayTrain\\\\dayClip1\\\\frames', 'NEW_IMAGES\\\\dayTrain\\\\dayTrain\\\\dayClip10\\\\frames', 'NEW_IMAGES\\\\dayTrain\\\\dayTrain\\\\dayClip11\\\\frames', 'NEW_IMAGES\\\\dayTrain\\\\dayTrain\\\\dayClip12\\\\frames', 'NEW_IMAGES\\\\dayTrain\\\\dayTrain\\\\dayClip13\\\\frames', 'NEW_IMAGES\\\\dayTrain\\\\dayTrain\\\\dayClip2\\\\frames', 'NEW_IMAGES\\\\dayTrain\\\\dayTrain\\\\dayClip3\\\\frames', 'NEW_IMAGES\\\\dayTrain\\\\dayTrain\\\\dayClip4\\\\frames', 'NEW_IMAGES\\\\dayTrain\\\\dayTrain\\\\dayClip5\\\\frames', 'NEW_IMAGES\\\\dayTrain\\\\dayTrain\\\\dayClip6\\\\frames', 'NEW_IMAGES\\\\dayTrain\\\\dayTrain\\\\dayClip7\\\\frames', 'NEW_IMAGES\\\\dayTrain\\\\dayTrain\\\\dayClip8\\\\frames', 'NEW_IMAGES\\\\dayTrain\\\\dayTrain\\\\dayClip9\\\\frames', 'NEW_IMAGES\\\\nightTrain\\\\nightTrain\\\\nightClip1\\\\frames', 'NEW_IMAGES\\\\nightTrain\\\\nightTrain\\\\nightClip2\\\\frames', 'NEW_IMAGES\\\\nightTrain\\\\nightTrain\\\\nightClip3\\\\frames', 'NEW_IMAGES\\\\nightTrain\\\\nightTrain\\\\nightClip4\\\\frames', 'NEW_IMAGES\\\\nightTrain\\\\nightTrain\\\\nightClip5\\\\frames']\n"
     ]
    }
   ],
   "source": [
    "anno_paths_box = anno_paths_box\n",
    "anno_paths_bulb = anno_paths_bulb\n",
    "img_dirs = img_dirs\n",
    "\n",
    "print(\"Box Annotation Paths:\", anno_paths_box)\n",
    "print(\"\\nBulb Annotation Paths:\", anno_paths_bulb)\n",
    "print(\"\\nImage Directories:\", img_dirs)\n"
   ]
  },
  {
   "cell_type": "code",
   "execution_count": 12,
   "id": "6528de79-1587-4423-b575-303534e81b14",
   "metadata": {},
   "outputs": [],
   "source": [
    "def read_annotaion(csv_file_path):\n",
    "    bounding_boxes = []\n",
    "    with open(csv_file_path, mode='r') as file:\n",
    "        csv_reader = csv.reader(file, delimiter=';')\n",
    "        next(csv_reader)\n",
    "        for row in csv_reader:\n",
    "            filename = row[0]\n",
    "            annotation_tag = row[1]\n",
    "            upper_left_x = int(row[2])\n",
    "            upper_left_y = int(row[3])\n",
    "            lower_right_x = int(row[4])\n",
    "            lower_right_y = int(row[5])\n",
    "            bounding_boxes.append((filename, annotation_tag, (upper_left_x, upper_left_y, lower_right_x, lower_right_y)))\n",
    "    return bounding_boxes"
   ]
  },
  {
   "cell_type": "code",
   "execution_count": 13,
   "id": "edc31a6c-2e37-4221-8ec4-79f8dc1f7a16",
   "metadata": {},
   "outputs": [
    {
     "ename": "KeyboardInterrupt",
     "evalue": "",
     "output_type": "error",
     "traceback": [
      "\u001b[1;31m---------------------------------------------------------------------------\u001b[0m",
      "\u001b[1;31mKeyboardInterrupt\u001b[0m                         Traceback (most recent call last)",
      "Cell \u001b[1;32mIn[13], line 25\u001b[0m\n\u001b[0;32m     23\u001b[0m \u001b[38;5;66;03m# Check if image file exists\u001b[39;00m\n\u001b[0;32m     24\u001b[0m \u001b[38;5;28;01mif\u001b[39;00m os\u001b[38;5;241m.\u001b[39mpath\u001b[38;5;241m.\u001b[39misfile(img_path):\n\u001b[1;32m---> 25\u001b[0m     original_img \u001b[38;5;241m=\u001b[39m cv2\u001b[38;5;241m.\u001b[39mcvtColor(cv2\u001b[38;5;241m.\u001b[39mimread(img_path), cv2\u001b[38;5;241m.\u001b[39mCOLOR_BGR2RGB)\n\u001b[0;32m     27\u001b[0m     \u001b[38;5;66;03m# Initialize crops as None\u001b[39;00m\n\u001b[0;32m     28\u001b[0m     box_crop, bulb_crop \u001b[38;5;241m=\u001b[39m \u001b[38;5;28;01mNone\u001b[39;00m, \u001b[38;5;28;01mNone\u001b[39;00m\n",
      "\u001b[1;31mKeyboardInterrupt\u001b[0m: "
     ]
    }
   ],
   "source": [
    "box_output_dir = 'NEW_IMAGES/cropped_boxes'\n",
    "bulb_output_dir = 'NEW_IMAGES/cropped_bulbs'\n",
    "\n",
    "\n",
    "os.makedirs(box_output_dir, exist_ok=True)\n",
    "os.makedirs(bulb_output_dir, exist_ok=True)\n",
    "\n",
    "images = []\n",
    "\n",
    "\n",
    "for csv_file_box, csv_file_bulb, img_dir in zip(anno_paths_box, anno_paths_bulb, img_dirs):\n",
    "    box_annotations = read_annotaion(csv_file_box)\n",
    "    bulb_annotations = read_annotation(csv_file_bulb)\n",
    "    \n",
    "    \n",
    "    image_files = sorted([f for f in os.listdir(img_dir) if f.endswith(('.jpg'))])\n",
    "    selected_images = image_files\n",
    "\n",
    "    # Collect images and corresponding annotations in the array\n",
    "    for filename in selected_images:\n",
    "        img_path = os.path.join(img_dir, filename)\n",
    "\n",
    "        # Check if image file exists\n",
    "        if os.path.isfile(img_path):\n",
    "            original_img = cv2.cvtColor(cv2.imread(img_path), cv2.COLOR_BGR2RGB)\n",
    "\n",
    "            # Initialize crops as None\n",
    "            box_crop, bulb_crop = None, None\n",
    "\n",
    "            # Process box annotation\n",
    "            for box in box_annotations:\n",
    "                if os.path.basename(box[0]) == filename:\n",
    "                    x1, y1, x2, y2 = box[2]\n",
    "                    box_crop = original_img[y1:y2, x1:x2]\n",
    "                    # Save box image\n",
    "                    box_output_path = os.path.join(box_output_dir, f\"box_{filename}\")\n",
    "                    cv2.imwrite(box_output_path, cv2.cvtColor(box_crop, cv2.COLOR_RGB2BGR))\n",
    "                    break\n",
    "\n",
    "            # Process bulb annotation\n",
    "            for bulb in bulb_annotations:\n",
    "                if os.path.basename(bulb[0]) == filename:\n",
    "                    x1, y1, x2, y2 = bulb[2]\n",
    "                    bulb_crop = original_img[y1:y2, x1:x2]\n",
    "                    # Save bulb image\n",
    "                    bulb_output_path = os.path.join(bulb_output_dir, f\"bulb_{filename}\")\n",
    "                    cv2.imwrite(bulb_output_path, cv2.cvtColor(bulb_crop, cv2.COLOR_RGB2BGR))\n",
    "                    break\n",
    "\n",
    "            images.append((original_img, box_crop, bulb_crop))\n",
    "\n"
   ]
  },
  {
   "cell_type": "code",
   "execution_count": null,
   "id": "0daddde4-0c64-4e36-ba51-f4db05ec83c8",
   "metadata": {},
   "outputs": [],
   "source": []
  }
 ],
 "metadata": {
  "kernelspec": {
   "display_name": "Python 3 (ipykernel)",
   "language": "python",
   "name": "python3"
  },
  "language_info": {
   "codemirror_mode": {
    "name": "ipython",
    "version": 3
   },
   "file_extension": ".py",
   "mimetype": "text/x-python",
   "name": "python",
   "nbconvert_exporter": "python",
   "pygments_lexer": "ipython3",
   "version": "3.12.4"
  }
 },
 "nbformat": 4,
 "nbformat_minor": 5
}
