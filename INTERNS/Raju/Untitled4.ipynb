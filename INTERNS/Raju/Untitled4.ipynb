{
  "cells": [
    {
      "cell_type": "code",
      "execution_count": null,
      "metadata": {
        "trusted": true
      },
      "outputs": [],
      "source": [
        "import tensorflow as tf\n",
        "import os\n",
        "import numpy as np\n",
        "from scipy import misc\n",
        "import sys\n",
        "from random import shuffle\n",
        "from random import uniform\n",
        "import zipfile\n",
        "from collections import OrderedDict\n",
        "import glob\n",
        "import time\n",
        "from PIL import Image\n",
        "from moviepy.editor import VideoFileClip\n",
        "from tqdm import tqdm\n",
        "\n",
        "%matplotlib inline\n",
        "import matplotlib.pyplot as plt"
      ]
    },
    {
      "cell_type": "code",
      "execution_count": null,
      "metadata": {
        "trusted": true
      },
      "outputs": [],
      "source": [
        "# Import data\n",
        "gt_train_path = 'city_fine_gt/train'\n",
        "imgs_train_path = 'city_fine/train'\n",
        "gt_val_path = 'city_fine_gt/val'\n",
        "imgs_val_path = 'city_fine/val'\n",
        "gt_test_path = 'city_fine_gt/test'\n",
        "imgs_test_path = 'city_fine/test'\n",
        "# Get training data filenames\n",
        "def get_files(imgs_dir, gt_dir):\n",
        "    \n",
        "    cities = os.listdir(imgs_dir)\n",
        "    gt = []\n",
        "    imgs = []\n",
        "    for city in cities:\n",
        "        new_gt_path = os.path.join(gt_dir, city)\n",
        "        new_imgs_path = os.path.join(imgs_dir, city)\n",
        "        gt += glob.glob(os.path.join(new_gt_path, \"*labelIds.png\"))\n",
        "        imgs += glob.glob(os.path.join(new_imgs_path, \"*.png\"))\n",
        "    imgs.sort()\n",
        "    gt.sort()\n",
        "    return imgs, gt\n",
        "\n",
        "train_imgs, train_gt = get_files(imgs_train_path, gt_train_path)\n",
        "val_imgs, val_gt = get_files(imgs_val_path, gt_val_path)\n",
        "test_imgs, test_gt = get_files(imgs_test_path, gt_test_path)"
      ]
    },
    {
      "cell_type": "code",
      "execution_count": 3,
      "metadata": {
        "trusted": true
      },
      "outputs": [],
      "source": [
        "# random image for unit tests\n",
        "random_im_path = 'city_fine/train/jena/jena_000118_000019_leftImg8bit.png'\n",
        "random_gt_path = 'city_fine_gt/train/jena/jena_000118_000019_gtFine_color.png'\n",
        "random_instance_path = 'city_fine_gt/train/jena/jena_000118_000019_gtFine_instanceIds.png'\n",
        "random_label_path = 'city_fine_gt/train/jena/jena_000118_000019_gtFine_labelIds.png'"
      ]
    },
    {
      "cell_type": "code",
      "execution_count": 4,
      "metadata": {
        "trusted": true
      },
      "outputs": [],
      "source": [
        "# downloaded into current directory from ftp://mi.eng.cam.ac.uk/pub/mttt2/models/vgg16.npy\n",
        "vgg_path = 'vgg16.npy'\n",
        "# From the VGG paper\n",
        "vgg_means = [103.939, 116.779, 123.68]"
      ]
    },
    {
      "cell_type": "code",
      "execution_count": 5,
      "metadata": {
        "trusted": true
      },
      "outputs": [],
      "source": [
        "def plot_image(image_path=None, img=None, from_path=True):\n",
        "    if (from_path == True):\n",
        "        img = misc.imread(image_path)\n",
        "    if len(img.shape) == 4:\n",
        "        img = np.squeeze(img)\n",
        "    if img.dtype != np.uint8:\n",
        "        img = img.astype(np.uint8)\n",
        "    plt.imshow(img)\n",
        "    plt.show()"
      ]
    },
    {
      "cell_type": "code",
      "execution_count": 6,
      "metadata": {
        "trusted": true
      },
      "outputs": [],
      "source": [
        "# prepare_ground_truth for cityscape data\n",
        "def prepare_ground_truth(img):\n",
        "    NUM_CLASSES = 5\n",
        "    new_image = np.zeros((img.shape[0], img.shape[1], NUM_CLASSES))\n",
        "    \n",
        "    # road\n",
        "    road_mask = img == 7\n",
        "    # sidewalk\n",
        "    side_mask = img == 8\n",
        "    # pedestrians[person,rider,bicycle]\n",
        "    ped_mask = np.logical_or(img == 24, img == 25)\n",
        "    # vehicles[car,truck,bus,caravan,trailer,train,motorcycle,license plate]\n",
        "    car_mask = np.logical_or.reduce((img == 26, img == 27, img == 28,\n",
        "                                      img == 29, img == 30, img == 31,\n",
        "                                      img == 32, img == 33, img == -1))\n",
        "    # everything else\n",
        "    else_mask = np.logical_not(np.logical_or.reduce((road_mask, side_mask,\n",
        "                                                     ped_mask, car_mask)))\n",
        "    \n",
        "    new_image[:,:,0] = road_mask\n",
        "    new_image[:,:,1] = side_mask\n",
        "    new_image[:,:,2] = ped_mask\n",
        "    new_image[:,:,3] = car_mask\n",
        "    new_image[:,:,4] = else_mask\n",
        "    \n",
        "    return new_image.astype(np.float32)"
      ]
    },
    {
      "cell_type": "code",
      "execution_count": null,
      "metadata": {
        "trusted": true
      },
      "outputs": [],
      "source": [
        "def get_data(batch_size=1, num_classes=5, mode='train', imgs=train_imgs, gt=train_gt, im_size=500):\n",
        "    \n",
        "    # Expects sorted lists of training images and ground truth as\n",
        "    # 'data' and 'labels'\n",
        "    if (mode == 'val'):\n",
        "        imgs = val_imgs\n",
        "        gt = val_gt\n",
        "    elif (mode == 'test'):\n",
        "        imgs = test_imgs\n",
        "        gt = test_gt\n",
        "    \n",
        "    # get shape from any image\n",
        "    shape_im = misc.imread(random_im_path)\n",
        "    \n",
        "    # Shuffle dataset\n",
        "    combined = list(zip(imgs, gt))\n",
        "    shuffle(combined)\n",
        "    imgs[:], gt[:] = zip(*combined)\n",
        "    \n",
        "    while(True):\n",
        "        for i in range(0,len(imgs),batch_size):\n",
        "            images = np.empty((batch_size, im_size, im_size, shape_im.shape[2]))\n",
        "            labels = np.empty((batch_size, im_size, im_size, num_classes))\n",
        "            for j, img in enumerate(imgs[i:i+batch_size]):\n",
        "                # Crop the size we want from a random spot in the image (as a form of\n",
        "                # minor data augmentation)\n",
        "                new_start_row = np.random.randint(0, shape_im.shape[0] - im_size)\n",
        "                new_start_col = np.random.randint(0, shape_im.shape[1] - im_size)\n",
        "                train_im = misc.imread(img).astype(np.float32)\n",
        "                \n",
        "                train_im = train_im[new_start_row:new_start_row+im_size, new_start_col:new_start_col+im_size]\n",
        "                images[j,:,:,:] = train_im\n",
        "                \n",
        "                gt_im = misc.imread(gt[i+j])\n",
        "                gt_im = gt_im[new_start_row:new_start_row+im_size, new_start_col:new_start_col+im_size]\n",
        "                labels[j,:,:,:] = prepare_ground_truth(gt_im)\n",
        "            \n",
        "            yield(images,labels)\n",
        "            "
      ]
    },
    {
      "cell_type": "code",
      "execution_count": 8,
      "metadata": {
        "trusted": true
      },
      "outputs": [],
      "source": [
        "# visualize_prediction for cityscape data\n",
        "def visualize_prediction(original_image, prediction):\n",
        "    \n",
        "    original_image = np.squeeze(original_image).astype(np.uint8)\n",
        "    new_image = np.copy(original_image)\n",
        "    prediction = np.squeeze(prediction)\n",
        "    mask = np.argmax(prediction, axis=2)\n",
        "    # road = green\n",
        "    new_image[mask[:,:]==0, :] = [0,255,0]\n",
        "    # sidewalk = blue\n",
        "    new_image[mask[:,:]==1, :] = [0,0,255]\n",
        "    # pedestrians = yellow\n",
        "    new_image[mask[:,:]==2, :] = [255,255,0]\n",
        "    # vehicles = red\n",
        "    new_image[mask[:,:]==3, :] = [255,0,0]\n",
        "    # else is left the same\n",
        "    \n",
        "    new_image = Image.blend(Image.fromarray(original_image, mode='RGB').convert('RGBA'),\n",
        "                            Image.fromarray(new_image, mode='RGB').convert('RGBA'),\n",
        "                            alpha=0.5)\n",
        "    \n",
        "    plt.imshow(new_image, interpolation='nearest')\n",
        "    plt.show()"
      ]
    },
    {
      "cell_type": "code",
      "execution_count": null,
      "metadata": {
        "trusted": true
      },
      "outputs": [
        {
          "ename": "",
          "evalue": "",
          "output_type": "error",
          "traceback": [
            "\u001b[1;31mFailed to start the Kernel. \n",
            "\u001b[1;31mConnection is disposed. \n",
            "\u001b[1;31mView Jupyter <a href='command:jupyter.viewOutput'>log</a> for further details."
          ]
        }
      ],
      "source": [
        "# Check the visualization with ground truth\n",
        "rand_gt = misc.imread(random_label_path)\n",
        "rand_im = misc.imread(random_im_path)\n",
        "plot_image(img=rand_im, from_path=False)\n",
        "prepped = prepare_ground_truth(rand_gt)\n",
        "visualize_prediction(rand_im, prepped)"
      ]
    },
    {
      "cell_type": "code",
      "execution_count": null,
      "metadata": {
        "trusted": true
      },
      "outputs": [],
      "source": []
    }
  ],
  "metadata": {
    "kernelspec": {
      "display_name": "Python 3",
      "language": "python",
      "name": "python3"
    },
    "language_info": {
      "codemirror_mode": {
        "name": "python",
        "version": 3
      },
      "file_extension": ".py",
      "mimetype": "text/x-python",
      "name": "python",
      "nbconvert_exporter": "python",
      "pygments_lexer": "ipython3",
      "version": "3.12.7"
    }
  },
  "nbformat": 4,
  "nbformat_minor": 4
}
